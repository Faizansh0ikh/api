{
 "cells": [
  {
   "cell_type": "markdown",
   "id": "1d4b15f8-8a6d-4e31-a62e-dad2d9b20276",
   "metadata": {},
   "source": [
    "Q1. What is an API? Give an example, where an API is used in real life."
   ]
  },
  {
   "cell_type": "markdown",
   "id": "a432c993-49a6-4872-94e4-d19586d2702d",
   "metadata": {},
   "source": [
    "An API, or Application Programming Interface, is a set of rules and protocols that \n",
    "allows different software applications to communicate and interact with each other.\n",
    "It specifies how software components should interact, what data they can exchange, \n",
    "and the methods they can use to request and process that data."
   ]
  },
  {
   "cell_type": "markdown",
   "id": "a8395f39-d97c-4e0f-a8e4-9ebbea6c3fa0",
   "metadata": {},
   "source": [
    "Q2. Give advantages and disadvantages of using API."
   ]
  },
  {
   "cell_type": "markdown",
   "id": "8d3c07e6-b0ed-48ce-bf09-c680834c2784",
   "metadata": {},
   "source": [
    "Advantages: Improved efficiency and productivity through code reusability and seamless integration.\n",
    "Disadvantages: Dependency on third-party services and potential security vulnerabilities."
   ]
  },
  {
   "cell_type": "markdown",
   "id": "8ce14428-cfb9-4bdb-88ec-ff8020588d5c",
   "metadata": {},
   "source": [
    "Q3. What is a Web API? Differentiate between API and Web API."
   ]
  },
  {
   "cell_type": "markdown",
   "id": "296aacac-b095-4c38-90f7-67d81053777f",
   "metadata": {},
   "source": [
    "A Web API is an API specifically designed for web-based applications,\n",
    "while API is a more general term encompassing various types of interfaces for software communication."
   ]
  },
  {
   "cell_type": "markdown",
   "id": "746b3ad3-8f1c-4d3a-8274-edf318e4a258",
   "metadata": {},
   "source": [
    "Q4. Explain REST and SOAP Architecture. Mention shortcomings of SOAP."
   ]
  },
  {
   "cell_type": "markdown",
   "id": "07e9f3cb-fdce-40ab-a84a-f22fab08e5bb",
   "metadata": {},
   "source": [
    "REST (Representational State Transfer) is an architectural style for designing networked applications that\n",
    "utilize simple and lightweight protocols like HTTP, while SOAP (Simple Object Access Protocol) is a protocol that\n",
    "allows communication between systems using XML messages; \n",
    "SOAP has more complexity and overhead compared to REST."
   ]
  },
  {
   "cell_type": "markdown",
   "id": "f8b363a8-c3f3-416a-bffb-9045c7d73614",
   "metadata": {},
   "source": [
    "Q5. Differentiate between REST and SOAP."
   ]
  },
  {
   "cell_type": "markdown",
   "id": "ba4c3cb1-62d9-4185-9f24-a16e854a29cd",
   "metadata": {},
   "source": [
    "REST is an architectural style that uses lightweight protocols like HTTP and focuses on simplicity and scalability, \n",
    "while SOAP is a protocol that uses XML messages and is more complex and heavyweight in nature."
   ]
  }
 ],
 "metadata": {
  "kernelspec": {
   "display_name": "Python 3 (ipykernel)",
   "language": "python",
   "name": "python3"
  },
  "language_info": {
   "codemirror_mode": {
    "name": "ipython",
    "version": 3
   },
   "file_extension": ".py",
   "mimetype": "text/x-python",
   "name": "python",
   "nbconvert_exporter": "python",
   "pygments_lexer": "ipython3",
   "version": "3.10.8"
  }
 },
 "nbformat": 4,
 "nbformat_minor": 5
}
